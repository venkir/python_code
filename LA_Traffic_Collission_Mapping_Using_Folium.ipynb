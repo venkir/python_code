{
 "cells": [
  {
   "cell_type": "markdown",
   "metadata": {},
   "source": [
    "## GeoMapping LA Traffic Collisions using Folium\n",
    "\n",
    "### By: Venki Ramachandran\n",
    "\n",
    "#### Originally printed in medium article by: Madhu Ramiah (all credit to her)\n",
    "https://madhuramiah.medium.com/geographic-plotting-with-python-folium-2f235cc167b7"
   ]
  },
  {
   "cell_type": "markdown",
   "metadata": {},
   "source": [
    "In this module you’ll be learning how to use folium to draw mapping and plot markers on them, with zoom capabilities. Prepare to be impressed!!!"
   ]
  },
  {
   "cell_type": "markdown",
   "metadata": {},
   "source": [
    "**Problem Statement**\n",
    "\n",
    "Plot the collisions that occurred in LA, the dataset is from Kaggle\n",
    "\n",
    "https://www.kaggle.com/cityofLA/los-angeles-traffic-collision-data\n"
   ]
  },
  {
   "cell_type": "markdown",
   "metadata": {},
   "source": [
    "### Step 1 - Load the data"
   ]
  },
  {
   "cell_type": "code",
   "execution_count": null,
   "metadata": {},
   "outputs": [],
   "source": [
    "#import the libraries\n",
    "import pandas as pd\n",
    "import seaborn as sns\n",
    "import matplotlib.pyplot as plt\n",
    "import numpy as np\n",
    "import json\n",
    "import folium\n",
    "from folium import plugins\n",
    "%matplotlib inline"
   ]
  },
  {
   "cell_type": "code",
   "execution_count": null,
   "metadata": {},
   "outputs": [],
   "source": [
    "#read the dataset and check the first five rows\n",
    "df = pd.read_csv('traffic-collision-data-from-2010-to-present.csv')\n",
    "df.head(5)"
   ]
  },
  {
   "cell_type": "code",
   "execution_count": null,
   "metadata": {},
   "outputs": [],
   "source": [
    "#Check the shape of the dataframe\n",
    "df.shape"
   ]
  },
  {
   "cell_type": "code",
   "execution_count": null,
   "metadata": {},
   "outputs": [],
   "source": [
    "df.columns"
   ]
  },
  {
   "cell_type": "code",
   "execution_count": null,
   "metadata": {},
   "outputs": [],
   "source": [
    "df.info()"
   ]
  },
  {
   "cell_type": "code",
   "execution_count": null,
   "metadata": {},
   "outputs": [],
   "source": [
    "# Look at the location data and see how to extract the lat and lon\n",
    "df['Location']"
   ]
  },
  {
   "cell_type": "code",
   "execution_count": null,
   "metadata": {},
   "outputs": [],
   "source": [
    "df['Location'][0]"
   ]
  },
  {
   "cell_type": "code",
   "execution_count": null,
   "metadata": {},
   "outputs": [],
   "source": [
    "# Extract longitute by searching for 'longitude': ' and terminating at 'h'\n",
    "longitude = df['Location'].str.extract(\"\\'longitude\\':\\s\\'(.+)\\',\\s\\'h\", expand=True)\n",
    "longitude = longitude.applymap(float)\n",
    "latitude = df['Location'].str.extract(\"\\'latitude\\':\\s\\'(.+)\\'}\", expand=True)\n",
    "#print(latitude)\n",
    "latitude = latitude.applymap(float)\n",
    "longitude = longitude.rename(columns={0: 'lon'})\n",
    "latitude = latitude.rename(columns={0: 'lat'})\n",
    "# create   a new df\n",
    "coords = pd.concat([latitude, longitude], axis=1)\n",
    "coords['Area Name'] = df['Area Name']\n",
    "coords"
   ]
  },
  {
   "cell_type": "markdown",
   "metadata": {},
   "source": [
    "### Data Handling and Cleaning\n",
    "\n",
    "Data is clean, do don't bother with this step"
   ]
  },
  {
   "cell_type": "code",
   "execution_count": null,
   "metadata": {},
   "outputs": [],
   "source": [
    "location=coords.groupby(['lat','lon','Area Name']).size().reset_index(name='count').sort_values(by='count',ascending=False)\n",
    "location=location[location['count']>5]\n",
    "location['color']=location['count'].apply(lambda count:\"Black\" if count>=400 else\n",
    "                                         \"green\" if count>=300 and count<400 else\n",
    "                                         \"Orange\" if count>=200 and count<300 else\n",
    "                                         \"darkblue\" if count>=150 and count<200 else\n",
    "                                         \"red\" if count>=100 and count<150 else\n",
    "                                         \"lightblue\" if count>=75 and count<100 else\n",
    "                                         \"brown\" if count>=50 and count<75 else\n",
    "                                         \"grey\")\n",
    "location['size']=location['count'].apply(lambda count:12 if count>=400 else\n",
    "                                         10 if count>=300 and count<400 else\n",
    "                                         8 if count>=200 and count<300 else\n",
    "                                         6 if count>=150 and count<200 else\n",
    "                                         4 if count>=100 and count<150 else\n",
    "                                         2 if count>=75 and count<100 else\n",
    "                                         1 if count>=50 and count<75 else\n",
    "                                         0.1)\n",
    "location"
   ]
  },
  {
   "cell_type": "code",
   "execution_count": null,
   "metadata": {},
   "outputs": [],
   "source": [
    "m=folium.Map([34.2012,-118.4662],zoom_start=11)\n",
    "#location=location[0:2000]\n",
    "for lat,lon,area,color,count,size in zip(location['lat'],location['lon'],location['Area Name'],location['color'],location['count'],location['size']):\n",
    "     folium.CircleMarker([lat, lon],\n",
    "                            popup=area,\n",
    "                            radius=size,\n",
    "                            color='b',\n",
    "                            fill=True,\n",
    "                            fill_opacity=0.7,\n",
    "                            fill_color=color,\n",
    "                           ).add_to(m)\n",
    "m.save('LA collisions.html')"
   ]
  },
  {
   "cell_type": "code",
   "execution_count": 107,
   "metadata": {},
   "outputs": [],
   "source": [
    "# heat map\n",
    "# convert to (n, 2) nd-array format for heatmap\n",
    "location1=location[0:100]\n",
    "location_data = location[['lat', 'lon']].to_numpy()\n",
    "\n",
    "# plot heatmap\n",
    "m.add_child(plugins.HeatMap(location_data, radius=15))\n",
    "m.save('heatmap.html')\n",
    "# creates the html file in the same dir where the notbook is running"
   ]
  },
  {
   "cell_type": "markdown",
   "metadata": {},
   "source": [
    "### Open the above html in Google Chrome and you can see the below screen shots\n",
    "\n",
    "<img src=\"./Heatmap.png\">\n",
    "\n",
    "<img src=\"./collisions_markers.png\">"
   ]
  },
  {
   "cell_type": "code",
   "execution_count": null,
   "metadata": {},
   "outputs": [],
   "source": []
  }
 ],
 "metadata": {
  "kernelspec": {
   "display_name": "Python 3",
   "language": "python",
   "name": "python3"
  },
  "language_info": {
   "codemirror_mode": {
    "name": "ipython",
    "version": 3
   },
   "file_extension": ".py",
   "mimetype": "text/x-python",
   "name": "python",
   "nbconvert_exporter": "python",
   "pygments_lexer": "ipython3",
   "version": "3.8.5"
  }
 },
 "nbformat": 4,
 "nbformat_minor": 2
}
